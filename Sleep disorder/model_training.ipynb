{
 "cells": [
  {
   "cell_type": "code",
   "execution_count": null,
   "id": "f8513905",
   "metadata": {
    "vscode": {
     "languageId": "plaintext"
    }
   },
   "outputs": [],
   "source": [
    "import pandas as pd\n",
    "import numpy as np\n",
    "from sklearn.model_selection import train_test_split, GridSearchCV\n",
    "from sklearn.linear_model import LogisticRegression\n",
    "from sklearn.metrics import accuracy_score, classification_report\n",
    "from sklearn.preprocessing import StandardScaler\n",
    "from sklearn.feature_selection import RFE\n",
    "import joblib\n",
    "\n",
    "# Load and clean data\n",
    "data = pd.read_csv(\"Sleep_health_and_lifestyle_dataset.csv\")\n",
    "data.dropna(inplace=True)\n",
    "data.drop(columns=['Person ID', 'Occupation', 'Gender', 'BMI Category'], inplace=True)\n",
    "\n",
    "X = data.drop(columns=['Sleep Disorder', 'Insomnia'])\n",
    "y_disorder = data['Sleep Disorder']\n",
    "y_insomnia = data['Insomnia']\n",
    "\n",
    "# Scaling\n",
    "scaler = StandardScaler()\n",
    "X_scaled = scaler.fit_transform(X)\n",
    "joblib.dump(scaler, \"scaler.pkl\")  # save scaler\n",
    "\n",
    "# Train-Test Split\n",
    "X_train_d, X_test_d, y_train_d, y_test_d = train_test_split(X_scaled, y_disorder, test_size=0.3, random_state=42, stratify=y_disorder)\n",
    "X_train_i, X_test_i, y_train_i, y_test_i = train_test_split(X_scaled, y_insomnia, test_size=0.3, random_state=42, stratify=y_insomnia)\n",
    "\n",
    "# Sleep Disorder Model\n",
    "rfe_d = RFE(LogisticRegression(solver='liblinear'), n_features_to_select=9)\n",
    "rfe_d.fit(X_train_d, y_train_d)\n",
    "X_train_sel_d = X_train_d[:, rfe_d.support_]\n",
    "model_d = LogisticRegression(solver='liblinear')\n",
    "model_d.fit(X_train_sel_d, y_train_d)\n",
    "joblib.dump(model_d, \"model_disorder.pkl\")\n",
    "joblib.dump(rfe_d.support_, \"features_disorder.pkl\")\n",
    "\n",
    "# Insomnia Model\n",
    "rfe_i = RFE(LogisticRegression(solver='liblinear'), n_features_to_select=9)\n",
    "rfe_i.fit(X_train_i, y_train_i)\n",
    "X_train_sel_i = X_train_i[:, rfe_i.support_]\n",
    "model_i = LogisticRegression(solver='liblinear')\n",
    "model_i.fit(X_train_sel_i, y_train_i)\n",
    "joblib.dump(model_i, \"model_insomnia.pkl\")\n",
    "joblib.dump(rfe_i.support_, \"features_insomnia.pkl\")\n",
    "\n",
    "# Save metrics (optional)\n",
    "report_d = classification_report(y_test_d, model_d.predict(X_test_d[:, rfe_d.support_]), output_dict=True)\n",
    "report_i = classification_report(y_test_i, model_i.predict(X_test_i[:, rfe_i.support_]), output_dict=True)\n",
    "joblib.dump(report_d, \"report_disorder.pkl\")\n",
    "joblib.dump(report_i, \"report_insomnia.pkl\")\n"
   ]
  }
 ],
 "metadata": {
  "language_info": {
   "name": "python"
  }
 },
 "nbformat": 4,
 "nbformat_minor": 5
}
